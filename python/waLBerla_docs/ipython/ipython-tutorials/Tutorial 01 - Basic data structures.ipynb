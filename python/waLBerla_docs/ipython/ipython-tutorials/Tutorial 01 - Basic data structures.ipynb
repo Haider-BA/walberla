{
 "cells": [
  {
   "cell_type": "markdown",
   "metadata": {},
   "source": [
    "# waLBerla Tutorial 01: Basic data structures\n",
    "\n",
    "## Preface\n",
    "\n",
    "This is an interactive Python notebook. The grey cells contain runnable Python code which can be executed with *Ctrl+Enter*. Make sure to execute all of them in the right order, since they built upon each other. You can also execute them all in the beginning using *\"Cell->Run all\"*. To get back to a clean state use *\"Kernel->Restart\"*.\n",
    "\n",
    "\n",
    "## Step 1: Game of Life in Python with numpy\n",
    "\n",
    "\n",
    "This first tutorial introduces waLBerla's basic data structures,\n",
    "by implementing a version of <a href=\"http://en.wikipedia.org/wiki/Conway%27s_Game_of_Life\" target=\"_blank\">Conway's Game of Life</a> cellular automaton.\n",
    "The _Game of Life_ algorithm is formulated on a regular grid of cells. Each cell can be in one of two states: _dead_ or _alive_. The time evolution of this game is a simple rule how to get to the next cell state by only using cell states of neighboring cells. For details see <a href=\"http://en.wikipedia.org/wiki/Conway%27s_Game_of_Life\" target=\"_blank\">the Wikipedia page</a>.\n",
    "\n",
    "\n",
    "Before working with waLBerla we first start with a pure Python implementation of this algorithm using the popular <a href=\"http://www.numpy.org/\">numpy package</a>. If you are not familiar with that package, now is a good time to read up on it."
   ]
  },
  {
   "cell_type": "code",
   "execution_count": null,
   "metadata": {
    "collapsed": false
   },
   "outputs": [],
   "source": [
    "import numpy as np\n",
    "def makeGrid(shape):\n",
    "    return np.zeros(shape, dtype=np.int8)\n",
    "print(makeGrid( [5,5] ))"
   ]
  },
  {
   "cell_type": "markdown",
   "metadata": {},
   "source": [
    "We have created an empty playing field consisting of 8-bit integer values, all initialized with zeros.\n",
    "Now we write a function iterating over all cells, applying the update rule on each one of them.  In waLBerla these update functions are called  _sweeps_, since they iterate (sweep) over the complete domain and update each cell separately. A crucial point here is that at each cell, we only have to access neighboring values, and, since we create a new temporary copy, all of these cell updates could in principle happen in parallel."
   ]
  },
  {
   "cell_type": "code",
   "execution_count": null,
   "metadata": {
    "collapsed": false
   },
   "outputs": [],
   "source": [
    "ALIVE = 1\n",
    "DEAD  = 0\n",
    "\n",
    "neighborhoodD2Q9 = [ (i,j) for i in [-1,0,1] \n",
    "                           for j in [-1,0,1] \n",
    "                           if i != 0 or j!=0 ]\n",
    "\n",
    "def gameOfLifeSweep(grid):\n",
    "    temporaryGrid = np.copy(grid)\n",
    "    for i in range(1, grid.shape[0]-1):\n",
    "        for j in range(1, grid.shape[1]-1):\n",
    "            numberOfAliveNeighbors = 0\n",
    "            for neighborCellOffset in neighborhoodD2Q9:\n",
    "                ni = i + neighborCellOffset[0]\n",
    "                nj = j + neighborCellOffset[1]\n",
    "                if temporaryGrid[ni,nj] == ALIVE:\n",
    "                    numberOfAliveNeighbors += 1\n",
    "            if numberOfAliveNeighbors < 2 or numberOfAliveNeighbors > 3:\n",
    "                grid[i,j] = DEAD\n",
    "            if numberOfAliveNeighbors == 3:\n",
    "                grid[i,j] = ALIVE\n",
    "    return grid     "
   ]
  },
  {
   "cell_type": "markdown",
   "metadata": {},
   "source": [
    "This code snippet takes a grid and returns the grid in the next timestep. \n",
    "For the GameOfLife we use a _D2Q9_ neighborhood, meaning 2 dimensional ( D2 ) with in total 9 cells (Q9). Since we leave out the center (0,0) we strictly speaking have only 8 cells."
   ]
  },
  {
   "cell_type": "code",
   "execution_count": null,
   "metadata": {
    "collapsed": false
   },
   "outputs": [],
   "source": [
    "print(neighborhoodD2Q9)"
   ]
  },
  {
   "cell_type": "markdown",
   "metadata": {},
   "source": [
    "Lets first initialize a so-called _blinker_ and run a few timesteps"
   ]
  },
  {
   "cell_type": "code",
   "execution_count": null,
   "metadata": {
    "collapsed": false
   },
   "outputs": [],
   "source": [
    "grid = makeGrid( [5,5] )\n",
    "grid[2,1:4] = ALIVE\n",
    "print ( \"Initial Setup:\" )\n",
    "print ( grid )\n",
    "\n",
    "for t in range(2):\n",
    "    grid = gameOfLifeSweep(grid)\n",
    "    print(\"After timestep %d: \" % (t+1,) )\n",
    "    print(grid)"
   ]
  },
  {
   "cell_type": "markdown",
   "metadata": {},
   "source": [
    "Our implementation seems to work: The blinker is iterating ( blinking ) nicely between these two configurations.\n",
    "\n",
    "Looking at these configurations in text representation is not a good idea for bigger grids, so lets display our grid using matplotlib. The setup code for matplotlib was put to a separate file called [matplotlib_setup.py](matplotlib_setup.py) which also contains code for creating animations."
   ]
  },
  {
   "cell_type": "code",
   "execution_count": null,
   "metadata": {
    "collapsed": false,
    "scrolled": false
   },
   "outputs": [],
   "source": [
    "from material.matplotlib_setup import *   # import matplotlib and configures it to play nicely with iPython notebook\n",
    "matplotlib.rcParams['image.cmap'] = 'Blues' # switch default colormap\n",
    "\n",
    "im = plt.imshow(grid, interpolation='none')"
   ]
  },
  {
   "cell_type": "markdown",
   "metadata": {},
   "source": [
    "Now lets create an animation of this blinker:"
   ]
  },
  {
   "cell_type": "code",
   "execution_count": null,
   "metadata": {
    "collapsed": false
   },
   "outputs": [],
   "source": [
    "ani = makeImshowAnimation(grid, gameOfLifeSweep, frames=6)\n",
    "displayAsHtmlVideo(ani, fps=2)"
   ]
  },
  {
   "cell_type": "markdown",
   "metadata": {},
   "source": [
    "Now lets load some more interesting starting configuration. Here we choose the 'Gosper Gliding Gun' scenario, taken from Wikipedia."
   ]
  },
  {
   "cell_type": "code",
   "execution_count": null,
   "metadata": {
    "collapsed": false
   },
   "outputs": [],
   "source": [
    "from scipy.misc import imread\n",
    "grid = imread('material/GosperGliderGun.png',flatten=True).astype(int)\n",
    "grid[grid>0] = ALIVE  # values are from 0 to 255 - set everything nonzero to ALIVE\n",
    "ani = makeImshowAnimation(grid, gameOfLifeSweep, frames=6*15)\n",
    "displayAsHtmlVideo(ani, fps=15)"
   ]
  },
  {
   "cell_type": "markdown",
   "metadata": {},
   "source": [
    "## Step 2: Going parallel with ipyparallel and waLBerla"
   ]
  },
  {
   "cell_type": "markdown",
   "metadata": {},
   "source": [
    "waLBerla is parallelized using MPI (message passing interface). That means that multiple processes are started, possibly on different machines which all execute the same program and communicate by sending messages. In a normal Python environment we would start multiple Python interpreters all executing the same script using `mpirun`. The following command would run a script using 4 processes:\n",
    "\n",
    "\n",
    "``` mpirun -np 4 python3 my_waLBerla_script.py```\n",
    "\n",
    "\n",
    "\n",
    "To make use of multiple processes in this IPython environment we use the [ipyparallel](http://ipyparallel.readthedocs.org/en/latest/intro.html) package. \n",
    "Therefore you first have to [start an ipyparallel cluster here in the IPython Cluster tab](/tree/ipython-tutorials#ipyclusters). Otherwise the following code will not work.\n",
    "\n",
    "Now lets test our parallel environment. After importing and initializing *ipyparallel* we only have to \n",
    "prefix a code cell with the IPython magic **px** and the code cell will be executed by each process of the cluster."
   ]
  },
  {
   "cell_type": "code",
   "execution_count": null,
   "metadata": {
    "collapsed": false
   },
   "outputs": [],
   "source": [
    "from ipyparallel import Client\n",
    "rc = Client()\n",
    "numberOfProcesses = len(rc.ids)\n",
    "print(\"There are %d processes in your ipyparallel cluster\" % ( numberOfProcesses,))"
   ]
  },
  {
   "cell_type": "code",
   "execution_count": null,
   "metadata": {
    "collapsed": false
   },
   "outputs": [],
   "source": [
    "%%px\n",
    "print(\"Hello parallel world\")"
   ]
  },
  {
   "cell_type": "markdown",
   "metadata": {},
   "source": [
    "If above cells produce errors, go back to the IPCluster setup to make sure your cluster is running. If everything works you see the hello world message printed by each process in the cluster."
   ]
  },
  {
   "cell_type": "markdown",
   "metadata": {},
   "source": [
    "Now lets implement the *Game of Life* algorithm in parallel using waLBerla. waLBerla divides the complete domain into blocks. These blocks can then be distributed to the participating processes. We will set up here a simple example where each process gets one block. waLBerla can put multiple blocks per process. This makes sense if the computational load varies for each block, then a process receives either few expensive blocks or many cheap blocks.\n",
    "\n",
    "While blocks are the basic unit of load balancing they also act as container for distributed data. In this *Game of Life* example we have to distribute our grid to the blocks e.g. each block internally stores only part of the complete domain. \n",
    "The local grids are extended by one ghost layer which are a shadow copy of the outermost layer of the neighboring block.\n",
    "All these details are handled by waLBerla. \n",
    "\n",
    "<img src=\"material/blocks.png\" width=\"900px\"></img>\n",
    "\n",
    "We only have to specify the number of blocks (which equals the number of processes in our case) and how many cells we want to have on each block. Each of these size informations have to be 3 tuples since waLBerla inherently is a 3D framework. However we can mimic our 2D setup by choosing the size of the z coordinate as 1."
   ]
  },
  {
   "cell_type": "code",
   "execution_count": null,
   "metadata": {
    "collapsed": false
   },
   "outputs": [],
   "source": [
    "from scipy.misc import imread \n",
    "import os\n",
    "\n",
    "# Read the initial scenario\n",
    "initialConfig = np.rot90( imread('material/GosperGliderGun.png',flatten=True).astype(int), 3 )\n",
    "initialConfig[initialConfig>0] = ALIVE  # values are from 0 to 255 - set everything nonzero to ALIVE\n",
    "\n",
    "# and send it to all execution engines together with other local variables\n",
    "rc[:].push( {'initialConfig'     : initialConfig,\n",
    "             'numberOfProcesses' : numberOfProcesses,\n",
    "             'ALIVE'             : ALIVE,\n",
    "             'DEAD'              : DEAD, \n",
    "             'neighborhoodD2Q9'  : neighborhoodD2Q9,\n",
    "             'gameOfLifeSweep'   : gameOfLifeSweep,\n",
    "             'cwd'               : os.getcwd()      } )\n",
    "pass"
   ]
  },
  {
   "cell_type": "code",
   "execution_count": null,
   "metadata": {
    "collapsed": false
   },
   "outputs": [],
   "source": [
    "%%px\n",
    "import sys\n",
    "import waLBerla as wlb\n",
    "import numpy as np\n",
    "import os\n",
    "\n",
    "os.chdir( cwd ) # change working directory of all engines to working directory of notebook kernel\n",
    "\n",
    "domainSize = (initialConfig.shape[0], initialConfig.shape[1], 1)\n",
    "\n",
    "# We can either specify the detailed domain partitioning ...\n",
    "blocks = wlb.createUniformBlockGrid(cellsPerBlock=(domainSize[0]//numberOfProcesses, domainSize[1], domainSize[2]),\n",
    "                                    blocks=(numberOfProcesses,1,1), \n",
    "                                    periodic=(1,1,1))\n",
    "\n",
    "# ... or let waLBerla do it automatically - \n",
    "#     if the domainSize is not divisible by the block count the domain is slightly extended\n",
    "blocks = wlb.createUniformBlockGrid(cells = domainSize, periodic=(1,1,1))\n",
    "\n",
    "# Now put one field (i.e. grid) on each block\n",
    "wlb.field.addToStorage(blocks, name='PlayingField', type=np.int, ghostLayers=1)\n",
    "\n",
    "# Iterate over local blocks - in our setup we have exactly one block per process - but lets be general\n",
    "for block in blocks:\n",
    "    offsetInGlobalDomain = blocks.transformLocalToGlobal(block, (0,0,0))\n",
    "    myRank = wlb.mpi.rank()\n",
    "    print(\"Block on rank %d: with offset %s\" % (myRank, offsetInGlobalDomain ))"
   ]
  },
  {
   "cell_type": "markdown",
   "metadata": {},
   "source": [
    "Having a distributed domain, we can now run the stencil algorithm locally on each block. We can safely do this, since the simulation domain was extended with one ghost layer. After each sweep over the domain the ghost layers have to be synchronized again. "
   ]
  },
  {
   "cell_type": "code",
   "execution_count": null,
   "metadata": {
    "collapsed": false
   },
   "outputs": [],
   "source": [
    "%%px\n",
    "import waLBerla.plot as wlbPlt\n",
    "\n",
    "import matplotlib\n",
    "import matplotlib.pyplot as plt\n",
    "import matplotlib.animation as animation\n",
    "from material.matplotlib_setup import *\n",
    "\n",
    "matplotlib.rcParams['image.cmap'] = 'Blues' # switch default colormap\n",
    "\n",
    "# Initialize our grid\n",
    "for block in blocks:\n",
    "    grid = wlb.field.toArray( block['PlayingField'] ).squeeze()\n",
    "    offsetInGlobalDomain = blocks.transformLocalToGlobal(block, (0,0,0))\n",
    "    blockSize = grid.shape[:2]\n",
    "    xBegin, xEnd = offsetInGlobalDomain[0], offsetInGlobalDomain[0] + grid.shape[0]\n",
    "    yBegin, yEnd = offsetInGlobalDomain[1], offsetInGlobalDomain[1] + grid.shape[1]\n",
    "    grid[:,:] = initialConfig[xBegin:xEnd, yBegin:yEnd]\n",
    "\n",
    "wlbPlt.scalarField( blocks, 'PlayingField', wlb.makeSlice[:,:,0] )"
   ]
  },
  {
   "cell_type": "code",
   "execution_count": null,
   "metadata": {
    "collapsed": false
   },
   "outputs": [],
   "source": [
    "%%px\n",
    "communication = wlb.createUniformBufferedScheme( blocks, 'D2Q9')\n",
    "communication.addDataToCommunicate( wlb.field.createPackInfo( blocks, 'PlayingField') )\n",
    "\n",
    "def runTimestep():\n",
    "    communication()\n",
    "    for block in blocks:\n",
    "        grid = wlb.field.toArray( block['PlayingField'], withGhostLayers=True )[:,:,1,0]\n",
    "        gameOfLifeSweep( grid )\n",
    "        \n",
    "\n",
    "ani = wlbPlt.scalarFieldAnimation( blocks, 'PlayingField', wlb.makeSlice[:,:,0], runFunction=runTimestep, frames=100 )\n",
    "displayAsHtmlVideo( ani, fps=30, show=(wlb.mpi.rank()==0) )"
   ]
  }
 ],
 "metadata": {
  "kernelspec": {
   "display_name": "Python 3",
   "language": "python",
   "name": "python3"
  },
  "language_info": {
   "codemirror_mode": {
    "name": "ipython",
    "version": 3
   },
   "file_extension": ".py",
   "mimetype": "text/x-python",
   "name": "python",
   "nbconvert_exporter": "python",
   "pygments_lexer": "ipython3",
   "version": "3.5.1"
  }
 },
 "nbformat": 4,
 "nbformat_minor": 0
}

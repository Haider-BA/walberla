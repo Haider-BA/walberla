{
 "cells": [
  {
   "cell_type": "markdown",
   "metadata": {},
   "source": [
    "# waLBerla Tutorial 03: LBM Extensions\n",
    "\n",
    "\n",
    "We start with the LBM simulation of an airfoil from last tutorial. In this tutorial we show how the boundary conditions can be set in a flexible way, by generating the airfoil geometry from an analytic description. Additionally we add some evaluation of force acting on the airfoil.\n",
    "\n",
    "## A) Programmatic Boundary setup"
   ]
  },
  {
   "cell_type": "code",
   "execution_count": null,
   "metadata": {
    "collapsed": false
   },
   "outputs": [],
   "source": [
    "from waLBerla import *\n",
    "import waLBerla.plot as wplt\n",
    "from waLBerla.geometry_setup import *\n",
    "import numpy as np\n",
    "import itertools\n",
    "from IPython import display\n",
    "from material.matplotlib_setup import *"
   ]
  },
  {
   "cell_type": "markdown",
   "metadata": {},
   "source": [
    "Instead of loading the airfoil from an image file, we use the [NACA analytical description](https://en.wikipedia.org/wiki/NACA_airfoil) to generate the geometry.  The following function is just an implementation of the NACA airfoil description from Wikipedia. Additionally the airfoil can be rotated afterwards. The resulting array has value 1 in cells overlapped by the airfoil and zero otherwise."
   ]
  },
  {
   "cell_type": "code",
   "execution_count": null,
   "metadata": {
    "collapsed": true
   },
   "outputs": [],
   "source": [
    "def makeNacaAirfoil( length, thickness=30, angle=0 ):\n",
    "    import scipy\n",
    "    import scipy.ndimage    \n",
    "    def nacaAirfoil(x, thickness,chordLength):\n",
    "        xOverC = x / chordLength\n",
    "        y_t = 0\n",
    "        coeffs = [ 0.2969, -0.1260, - 0.3516, 0.2843, -0.1015 ]\n",
    "        for coeff, exponent in zip( coeffs, [ 0.5, 1,2,3,4 ] ):\n",
    "            y_t += coeff * xOverC ** exponent\n",
    "        y_t *= 5 * thickness/100 * chordLength\n",
    "        return y_t\n",
    "\n",
    "    domain = np.zeros( (length, int(length*thickness/100) ) )\n",
    "    it = np.nditer( domain, flags=['multi_index'], op_flags= ['readwrite'] )\n",
    "    while not it.finished:\n",
    "        x,y = it.multi_index\n",
    "        y -= domain.shape[1]/2\n",
    "        if abs(y) < nacaAirfoil( x, thickness, domain.shape[0] ):\n",
    "            it[0] = 1\n",
    "        it.iternext()\n",
    "    domain = np.rot90( domain,1 )\n",
    "    domain = scipy.ndimage.interpolation.rotate( domain, angle=-angle)\n",
    "\n",
    "    domain[ domain > 0.5 ] = 1\n",
    "    domain[ domain <= 0.5 ] = 0\n",
    "    domain = domain.astype( np.int32 )\n",
    "    return domain"
   ]
  },
  {
   "cell_type": "code",
   "execution_count": null,
   "metadata": {
    "collapsed": false
   },
   "outputs": [],
   "source": [
    "from ipywidgets import interactive\n",
    "def showAirfoil( thickness=10, angle=20 ):\n",
    "    wplt.style.use('ggplot')\n",
    "    wplt.imshow( makeNacaAirfoil(300, thickness, angle) )\n",
    "widgets = interactive(showAirfoil, thickness=(5,50,1), angle=(-45,45, 1))\n",
    "display.display(widgets)"
   ]
  },
  {
   "cell_type": "code",
   "execution_count": null,
   "metadata": {
    "collapsed": false
   },
   "outputs": [],
   "source": [
    "airfoilArr = makeNacaAirfoil( length=200, **widgets.kwargs )"
   ]
  },
  {
   "cell_type": "code",
   "execution_count": null,
   "metadata": {
    "collapsed": false
   },
   "outputs": [],
   "source": [
    "def setBoundariesChannel( blocks, boundaryHandlingID ):\n",
    "    for block in blocks:\n",
    "        b = block[ boundaryHandlingID ]\n",
    "        if block.atDomainMinBorder[1]:\n",
    "            b.forceBoundary( 'NoSlip',   makeSlice[ :, 0, :, 'g'] )\n",
    "        if block.atDomainMaxBorder[1]:\n",
    "            b.forceBoundary( 'NoSlip',   makeSlice[ :,-1, :, 'g'] )\n",
    "        b.fillWithDomain()\n",
    "\n",
    "\n",
    "# Lattice Model Setup\n",
    "omega = 1.7\n",
    "domainSize = ( airfoilArr.shape[1]*2, airfoilArr.shape[0] * 2 )\n",
    "blocks = createUniformBlockGrid( cells=(500,200,1), periodic=(1,0,1) )\n",
    "collisionModel =lbm.collisionModels.SRT( omega )\n",
    "forceModel = lbm.forceModels.SimpleConstant( (1e-5,0,0) )\n",
    "latticeModel = lbm.makeLatticeModel( \"D2Q9\", collisionModel, forceModel )\n",
    "lbm.addPdfFieldToStorage( blocks, \"pdfs\", latticeModel, velocityAdaptor=\"vel\", densityAdaptor=\"rho\", initialDensity=1.0 )\n",
    "field.addFlagFieldToStorage( blocks, 'flags' )\n",
    "lbm.addBoundaryHandlingToStorage( blocks, 'boundary', 'pdfs', 'flags' )\n",
    "\n",
    "# Boundary Setup\n",
    "setBoundaryFromArray( blocks, 'boundary', makeSlice[0.3:0.7, 0.3:0.7 ,0.5], airfoilArr, { 1: 'NoSlip' }, resizeFunc=binaryResize )\n",
    "setBoundariesChannel( blocks, 'boundary' )\n",
    "\n",
    "sweep = lbm.makeCellwiseSweep( blocks, \"pdfs\", flagFieldID='flags', flagList=['fluid'] )\n",
    "\n",
    "# Communication\n",
    "communication = createUniformBufferedScheme( blocks, 'D3Q19')\n",
    "communication.addDataToCommunicate( field.createPackInfo( blocks, 'pdfs') )\n",
    "\n",
    "def run( timesteps=10 ):\n",
    "    for t in range(timesteps):\n",
    "        communication()\n",
    "        for block in blocks: block['boundary']()\n",
    "        for block in blocks: sweep.streamCollide( block )"
   ]
  },
  {
   "cell_type": "code",
   "execution_count": null,
   "metadata": {
    "collapsed": false
   },
   "outputs": [],
   "source": [
    "run(100)\n",
    "setFieldUsingFlagMask(blocks, 'pdfs', np.NaN, 'flags', ['NoSlip'] )\n",
    "ani = wplt.scalarFieldAnimation( blocks, 'rho', makeSlice[:,:,0.5], runFunction=run )\n",
    "displayAsHtmlImage( ani )"
   ]
  },
  {
   "cell_type": "markdown",
   "metadata": {},
   "source": [
    "## B) Evaluation"
   ]
  },
  {
   "cell_type": "code",
   "execution_count": null,
   "metadata": {
    "collapsed": false
   },
   "outputs": [],
   "source": [
    "class ForceCalculationMasks:\n",
    "    @staticmethod\n",
    "    def addToBlock(block, blockStorage):\n",
    "        pdfFieldArr  = field.toArray(block['pdfs'])\n",
    "        flagFieldArr = field.toArray(block['flags'])[:,:,:,0]\n",
    "        directions   = block['pdfs'].latticeModel.directions\n",
    "        maskArr = np.zeros( pdfFieldArr.shape, dtype=bool )\n",
    "        pdfDirectionArr = np.zeros( list(pdfFieldArr.shape) + [3] )\n",
    "\n",
    "        fluidFlag  =  block['flags'].flag(\"fluid\")\n",
    "        noSlipFlag =  block['flags'].flag(\"NoSlip\")\n",
    "\n",
    "        innerPartOfDomain = itertools.product( range(2, maskArr.shape[0]-2),\n",
    "                                               range(2, maskArr.shape[1]-2),\n",
    "                                               range(0, maskArr.shape[2]  ) )\n",
    "\n",
    "        for x,y,z in innerPartOfDomain:\n",
    "            if flagFieldArr[x,y,z] & fluidFlag:\n",
    "                for dirIdx, dir in enumerate(directions):\n",
    "                    nx, ny, nz = x+dir[0], y+dir[1], z+dir[2]\n",
    "                    if flagFieldArr[nx,ny,nz] & noSlipFlag:\n",
    "                        maskArr[x,y,z,dirIdx ] = True\n",
    "                        pdfDirectionArr[x,y,z,:] = dir\n",
    "        return ForceCalculationMasks( maskArr, pdfDirectionArr )\n",
    "\n",
    "    def __init__(self, maskArr, pdfDirectionArr):\n",
    "        self._maskArr = maskArr\n",
    "        self._pdfDirectionArr = pdfDirectionArr\n",
    "\n",
    "    def calculateForceOnBoundary(self, pdfField):\n",
    "        force = np.array([ 0.0 ] * 3)\n",
    "        pdfFieldArr = field.toArray( pdfField )\n",
    "        for i in range(3):\n",
    "            fArr = pdfFieldArr[ self._maskArr ] * self._pdfDirectionArr[self._maskArr,i]\n",
    "            force[i] += np.sum( fArr )\n",
    "        return force\n",
    "\n",
    "def calculateForceOnBoundary( blocks ):\n",
    "    force = np.array( [ 0.0 ] * 3 )\n",
    "    for block in blocks:\n",
    "        force += block['ForceCalculation'].calculateForceOnBoundary(block['pdfs'])\n",
    "    return np.array( mpi.reduceReal( force, mpi.SUM ) )\n",
    "\n",
    "blocks.addBlockData('ForceCalculation', ForceCalculationMasks.addToBlock)\n",
    "pass"
   ]
  },
  {
   "cell_type": "code",
   "execution_count": null,
   "metadata": {
    "collapsed": false
   },
   "outputs": [],
   "source": [
    "lifts = []\n",
    "\n",
    "for i in range(100):\n",
    "    run( 10 )    \n",
    "    plt.subplot(2,1,1)\n",
    "    wplt.scalarField( blocks, 'rho', makeSlice[:,:,0.5] )\n",
    "    plt.subplot(2,1,2)\n",
    "    f = calculateForceOnBoundary( blocks )\n",
    "    lifts.append( f[1] )\n",
    "    wplt.plot( lifts, color='b' )\n",
    "    wplt.ylim([0,0.15])\n",
    "    wplt.xlim(0 , 100 )\n",
    "    wplt.title(\"Lift\")\n",
    "    display.display( wplt.gcf() )\n",
    "    display.clear_output(wait=True) "
   ]
  }
 ],
 "metadata": {
  "kernelspec": {
   "display_name": "Python 3",
   "language": "python",
   "name": "python3"
  },
  "language_info": {
   "codemirror_mode": {
    "name": "ipython",
    "version": 3
   },
   "file_extension": ".py",
   "mimetype": "text/x-python",
   "name": "python",
   "nbconvert_exporter": "python",
   "pygments_lexer": "ipython3",
   "version": "3.5.1"
  }
 },
 "nbformat": 4,
 "nbformat_minor": 0
}

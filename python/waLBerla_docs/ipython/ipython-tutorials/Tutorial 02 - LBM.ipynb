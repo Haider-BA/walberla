{
 "cells": [
  {
   "cell_type": "markdown",
   "metadata": {
    "collapsed": false
   },
   "source": [
    "# waLBerla Tutorial 02: LBM Setup\n",
    "\n",
    "In this tutorial we set up a basic lattice Boltzmann simulation of a periodic channel.\n",
    "\n",
    "First we create a simple block structure, same as in the last \"Game of Life\" tutorial."
   ]
  },
  {
   "cell_type": "code",
   "execution_count": null,
   "metadata": {
    "collapsed": true
   },
   "outputs": [],
   "source": [
    "from waLBerla import *\n",
    "from material.matplotlib_setup import *\n",
    "\n",
    "blocks = createUniformBlockGrid( cells=(500,200,1), periodic=(1,0,1) )"
   ]
  },
  {
   "cell_type": "markdown",
   "metadata": {},
   "source": [
    "For LBM we have the choice of different lattice models. A lattice model in waLBerla consists of:\n",
    "- a stencil that defines the cell neighborhoods. In this tutorial we use a two dimensional D2Q9 stencil.\n",
    "- a force model to use volume forces in the domain. For our setup we need a constant volume force to drive the channel and make use of the \"SimpleConstant\" model. \n",
    "- a collision model defining the LBM collision operator. Her we use SRT (BGK), however the two relaxation time (TRT) model is also supported and for the D3Q19 model a MRT implementation is available as well\n",
    "\n",
    "With the lattice model a pdf field is created and added to all blocks. Additionally we create optional adaptors for velocity and density. These adaptors behave similar to fields, however no memory is required for them, the values are computed on-the-fly from the pdfs.\n"
   ]
  },
  {
   "cell_type": "code",
   "execution_count": null,
   "metadata": {
    "collapsed": true
   },
   "outputs": [],
   "source": [
    "omega = 1.3\n",
    "collisionModel =lbm.collisionModels.SRT(omega)\n",
    "forceModel = lbm.forceModels.SimpleConstant( (1e-5,0,0) )\n",
    "latticeModel = lbm.makeLatticeModel(\"D2Q9\", collisionModel, forceModel)\n",
    "lbm.addPdfFieldToStorage(blocks, \"pdfs\", latticeModel, \n",
    "                         velocityAdaptor=\"vel\", densityAdaptor=\"rho\", initialDensity=1.0)"
   ]
  },
  {
   "cell_type": "markdown",
   "metadata": {},
   "source": [
    "To store geometry information a flag field is created and used as input to the LBM boundary handling:"
   ]
  },
  {
   "cell_type": "code",
   "execution_count": null,
   "metadata": {
    "collapsed": false
   },
   "outputs": [],
   "source": [
    "field.addFlagFieldToStorage( blocks, 'flags')\n",
    "lbm.addBoundaryHandlingToStorage(blocks, 'boundary', 'pdfs', 'flags')"
   ]
  },
  {
   "cell_type": "markdown",
   "metadata": {},
   "source": [
    "Next we define the setup of our channel. At the northern and southern domain borders no-slip boundaries are required.\n",
    "To set up the boundaries the distributed nature of the domain has to be taken into account. \n",
    "When iterating over the blocks we only get the locally stored blocks. So this loop is automatically parallelized when using multiple MPI processes. For each block we first check if it is located at the border of the global domain, and if so, we set the border slice to no-slip. When defining the slice, the additional __'g'__ marker is used, to place the boundary in the ghost layer.\n"
   ]
  },
  {
   "cell_type": "code",
   "execution_count": null,
   "metadata": {
    "collapsed": false
   },
   "outputs": [],
   "source": [
    "def setBoundariesChannel( blocks, boundaryHandlingID ):\n",
    "    for block in blocks:\n",
    "        b = block[ boundaryHandlingID ]\n",
    "        if block.atDomainMinBorder[1]:\n",
    "            b.forceBoundary('NoSlip',   makeSlice[ :, 0, :, 'g'])\n",
    "        if block.atDomainMaxBorder[1]:\n",
    "            b.forceBoundary('NoSlip',   makeSlice[ :,-1, :, 'g'])\n",
    "        b.fillWithDomain()\n",
    "setBoundariesChannel( blocks, 'boundary' )"
   ]
  },
  {
   "cell_type": "markdown",
   "metadata": {},
   "source": [
    "Finally a LBM sweep functor is created, making use of the already created pdf and flag field."
   ]
  },
  {
   "cell_type": "code",
   "execution_count": null,
   "metadata": {
    "collapsed": true
   },
   "outputs": [],
   "source": [
    "sweep = lbm.makeCellwiseSweep(blocks, \"pdfs\", flagFieldID='flags', flagList=['fluid'])"
   ]
  },
  {
   "cell_type": "markdown",
   "metadata": {},
   "source": [
    "Since we have set our domain to be periodic in x-direction,the east and west boundary are taken care of by the ghost layer exchange. Here the communication is set up as explained in the previous tutorial. "
   ]
  },
  {
   "cell_type": "code",
   "execution_count": null,
   "metadata": {
    "collapsed": true
   },
   "outputs": [],
   "source": [
    "communication = createUniformBufferedScheme( blocks, 'D2Q9')\n",
    "communication.addDataToCommunicate( field.createPackInfo( blocks, 'pdfs') )"
   ]
  },
  {
   "cell_type": "markdown",
   "metadata": {},
   "source": [
    "One timestep consists of ghost layer communication, boundary handling and an LBM stream-collide step"
   ]
  },
  {
   "cell_type": "code",
   "execution_count": null,
   "metadata": {
    "collapsed": true
   },
   "outputs": [],
   "source": [
    "def run( timesteps ):\n",
    "    for t in range(timesteps):\n",
    "        communication()\n",
    "        for block in blocks: block['boundary']()\n",
    "        for block in blocks: sweep.streamCollide( block )"
   ]
  },
  {
   "cell_type": "markdown",
   "metadata": {},
   "source": [
    "To get a more interesting result we place an airfoil shaped object inside our channel. This geometry is loaded from an image placed in the 'material' subfolder. You can upload different images and simulate the flow around these objects:"
   ]
  },
  {
   "cell_type": "code",
   "execution_count": null,
   "metadata": {
    "collapsed": true
   },
   "outputs": [],
   "source": [
    "from waLBerla.geometry_setup import *\n",
    "setBoundaryFromBlackAndWhiteImage(blocks, \"boundary\", makeSlice[0.25:0.75, 0.3:0.6 ,0.5], \n",
    "                                  \"material/wing.png\", \"NoSlip\")"
   ]
  },
  {
   "cell_type": "markdown",
   "metadata": {},
   "source": [
    "Next we create a video of the density distribution in the channel ( which is proportional to pressure in LBM). Before creating a frame for the video we let the simulation run for 10 timesteps, then we set the density inside the object to NaN to get a better looking plot"
   ]
  },
  {
   "cell_type": "code",
   "execution_count": null,
   "metadata": {
    "collapsed": true
   },
   "outputs": [],
   "source": [
    "def setByMask( blocks, targetField, targetValue, flagField, flagNames ):\n",
    "    for b in blocks:\n",
    "        mask = 0\n",
    "        for flagName in flagNames:\n",
    "            mask |= b[flagField].flag(flagName)\n",
    "\n",
    "        targetArr = field.toArray( b[targetField], True )\n",
    "        flagArr   = field.toArray( b[flagField]  , True )[:,:,:,0]\n",
    "        targetArr[ np.bitwise_and( flagArr, mask ) > 0, : ] = targetValue\n",
    "\n",
    "\n",
    "    \n",
    "def visualizationStep():\n",
    "    run(10)\n",
    "    # Set pdfs to NaN in NoSlip cells to better see the obstacle in the visualization:\n",
    "    setFieldUsingFlagMask(blocks, 'pdfs', np.NaN, 'flags', ['NoSlip'] )"
   ]
  },
  {
   "cell_type": "code",
   "execution_count": null,
   "metadata": {
    "collapsed": false
   },
   "outputs": [],
   "source": [
    "import waLBerla.plot as wplt\n",
    "\n",
    "run(700) # run the simulation until flow field has stabilized - then no colormap rescaling is required\n",
    "ani = wplt.scalarFieldAnimation( blocks, 'rho', makeSlice[:,:,0.5], visualizationStep, frames=300)\n",
    "displayAsHtmlImage(ani)"
   ]
  }
 ],
 "metadata": {
  "kernelspec": {
   "display_name": "Python 3",
   "language": "python",
   "name": "python3"
  },
  "language_info": {
   "codemirror_mode": {
    "name": "ipython",
    "version": 3
   },
   "file_extension": ".py",
   "mimetype": "text/x-python",
   "name": "python",
   "nbconvert_exporter": "python",
   "pygments_lexer": "ipython3",
   "version": "3.5.1"
  }
 },
 "nbformat": 4,
 "nbformat_minor": 0
}
